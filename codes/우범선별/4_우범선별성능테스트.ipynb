{
 "cells": [
  {
   "cell_type": "code",
   "execution_count": 1,
   "metadata": {},
   "outputs": [],
   "source": [
    "import pickle\n",
    "import pandas as pd\n",
    "import numpy as np"
   ]
  },
  {
   "cell_type": "markdown",
   "metadata": {},
   "source": [
    "## 1. Load Dataset "
   ]
  },
  {
   "cell_type": "code",
   "execution_count": 2,
   "metadata": {},
   "outputs": [],
   "source": [
    "X_train = pd.read_csv('./label_syn/encoding_train1.csv', encoding='utf-8-sig')\n",
    "X_test = pd.read_csv('./label_syn/encoding_test.csv', encoding='utf-8-sig')"
   ]
  },
  {
   "cell_type": "code",
   "execution_count": 3,
   "metadata": {},
   "outputs": [],
   "source": [
    "y_train= pd.read_csv('./label_syn/y_train1.csv', encoding='utf-8-sig')\n",
    "y_test= pd.read_csv('./label_syn/y_test.csv', encoding='utf-8-sig')"
   ]
  },
  {
   "cell_type": "markdown",
   "metadata": {},
   "source": [
    "## 2. Over sampling"
   ]
  },
  {
   "cell_type": "code",
   "execution_count": 4,
   "metadata": {},
   "outputs": [],
   "source": [
    "from imblearn.over_sampling import RandomOverSampler"
   ]
  },
  {
   "cell_type": "code",
   "execution_count": 5,
   "metadata": {},
   "outputs": [
    {
     "name": "stdout",
     "output_type": "stream",
     "text": [
      "Oversampler 적용 전 학습용 피처/레이블 데이터 세트:  (36592, 18) (36592, 1)\n",
      "Oversampler 적용 후 학습용 피처/레이블 데이터 세트:  (57484, 18) (57484, 1)\n",
      "Oversampler 적용 후 레이블 값 분포: \n",
      " 우범여부\n",
      "1       28742\n",
      "0       28742\n",
      "dtype: int64\n"
     ]
    }
   ],
   "source": [
    "over_sampler = RandomOverSampler(random_state = 11)\n",
    "X_train_over,y_train_over = over_sampler.fit_resample(X_train,y_train)\n",
    "print('Oversampler 적용 전 학습용 피처/레이블 데이터 세트: ', X_train.shape, y_train.shape)\n",
    "print('Oversampler 적용 후 학습용 피처/레이블 데이터 세트: ', X_train_over.shape, y_train_over.shape)\n",
    "print('Oversampler 적용 후 레이블 값 분포: \\n', y_train_over.value_counts())"
   ]
  },
  {
   "cell_type": "code",
   "execution_count": 6,
   "metadata": {},
   "outputs": [
    {
     "name": "stdout",
     "output_type": "stream",
     "text": [
      "Oversampler 적용 전 학습용 피처/레이블 데이터 세트:  (8926, 18) (36592, 1)\n",
      "Oversampler 적용 후 학습용 피처/레이블 데이터 세트:  (13936, 18) (13936, 1)\n",
      "Oversampler 적용 후 레이블 값 분포: \n",
      " 우범여부\n",
      "1       6968\n",
      "0       6968\n",
      "dtype: int64\n"
     ]
    }
   ],
   "source": [
    "over_sampler = RandomOverSampler(random_state = 11)\n",
    "X_test_over,y_test_over = over_sampler.fit_resample(X_test,y_test)\n",
    "print('Oversampler 적용 전 학습용 피처/레이블 데이터 세트: ', X_test.shape, y_train.shape)\n",
    "print('Oversampler 적용 후 학습용 피처/레이블 데이터 세트: ', X_test_over.shape, y_test_over.shape)\n",
    "print('Oversampler 적용 후 레이블 값 분포: \\n', y_test_over.value_counts())"
   ]
  },
  {
   "cell_type": "markdown",
   "metadata": {},
   "source": [
    "## 3. xgboost"
   ]
  },
  {
   "cell_type": "code",
   "execution_count": 7,
   "metadata": {},
   "outputs": [],
   "source": [
    "import warnings\n",
    "warnings.filterwarnings('ignore')\n",
    "from datetime import datetime\n",
    "from xgboost import XGBClassifier"
   ]
  },
  {
   "cell_type": "code",
   "execution_count": 8,
   "metadata": {},
   "outputs": [],
   "source": [
    "def timer(start_time=None):\n",
    "    if not start_time:\n",
    "        start_time = datetime.now()\n",
    "        return start_time\n",
    "    elif start_time:\n",
    "        thour, temp_sec = divmod((datetime.now() - start_time).total_seconds(), 3600)\n",
    "        tmin, tsec = divmod(temp_sec, 60)\n",
    "        print('\\n Time taken: %i hours %i minutes and %s seconds.' % (thour, tmin, round(tsec, 2)))"
   ]
  },
  {
   "cell_type": "markdown",
   "metadata": {},
   "source": [
    "## 3. 모델학습"
   ]
  },
  {
   "cell_type": "markdown",
   "metadata": {},
   "source": [
    "### 3.1 학습/테스트 데이터 학습(xgboost) 성능"
   ]
  },
  {
   "cell_type": "code",
   "execution_count": 9,
   "metadata": {},
   "outputs": [],
   "source": [
    "from sklearn.metrics import confusion_matrix,precision_score,accuracy_score,recall_score,f1_score,roc_auc_score\n",
    "\n",
    "def get_clf_eval2(y_test, pred=None, pred_proba=None):\n",
    "    confusion = confusion_matrix(y_test, pred)\n",
    "    accuracy = accuracy_score(y_test, pred)\n",
    "    precision = precision_score(y_test, pred, average ='macro')\n",
    "    recall = recall_score(y_test, pred, average ='macro')\n",
    "    f1 = f1_score(y_test, pred, average ='macro')\n",
    "    \n",
    "    print(\"오차행렬\\n\", confusion)\n",
    "    print(\"정확도: {0:.4f}, 정밀도: {1:.4f}, 재현율: {2:.4f}, F1:{3:.4f}\\n\".format(accuracy, precision, recall, f1))\n",
    "    \n",
    "# 모델 학습 함수\n",
    "def get_model_train_eval2(model, ftr_train = None, ftr_test = None, tgt_train = None, tgt_test = None):\n",
    "    model.fit(ftr_train, tgt_train)\n",
    "    pred = model.predict(ftr_test)\n",
    "    pred_proba = model.predict_proba(ftr_test)[:, 1]\n",
    "    get_clf_eval2(tgt_test, pred, pred_proba)"
   ]
  },
  {
   "cell_type": "code",
   "execution_count": 10,
   "metadata": {},
   "outputs": [],
   "source": [
    "xgb_model = XGBClassifier(base_score=0.5, booster='gbtree', colsample_bylevel=1,\n",
    "              colsample_bynode=1, colsample_bytree=0.6, gamma=1, gpu_id=-1,\n",
    "              importance_type='gain', interaction_constraints='',\n",
    "              learning_rate=0.5994130001745845, max_delta_step=0, max_depth=4,\n",
    "              min_child_weight=2, monotone_constraints='()',\n",
    "              n_estimators=424, n_jobs=20, num_parallel_tree=1, random_state=0,\n",
    "              reg_alpha=0, reg_lambda=1, scale_pos_weight=1, subsample=1.0,\n",
    "              tree_method='exact', validate_parameters=1, verbosity=None, objective= 'binary:logistic', eval_metric='logloss')"
   ]
  },
  {
   "cell_type": "code",
   "execution_count": 11,
   "metadata": {},
   "outputs": [
    {
     "name": "stdout",
     "output_type": "stream",
     "text": [
      "오차행렬\n",
      " [[5778 1190]\n",
      " [3631 3337]]\n",
      "정확도: 0.6541, 정밀도: 0.6756, 재현율: 0.6541, F1:0.6431\n",
      "\n",
      "\n",
      " Time taken: 0 hours 0 minutes and 2.19 seconds.\n"
     ]
    }
   ],
   "source": [
    "start_time = timer(None) \n",
    "get_model_train_eval2(xgb_model, ftr_train = X_train_over, ftr_test = X_test_over, \n",
    "                      tgt_train = y_train_over, tgt_test = y_test_over)\n",
    "timer(start_time) "
   ]
  },
  {
   "cell_type": "markdown",
   "metadata": {},
   "source": [
    "### 3.2 기존 학습(xgboost) 모델을 가져와서 검증"
   ]
  },
  {
   "cell_type": "code",
   "execution_count": 12,
   "metadata": {},
   "outputs": [],
   "source": [
    "from sklearn.metrics import confusion_matrix,precision_score,accuracy_score,recall_score,f1_score,roc_auc_score\n",
    "\n",
    "def get_clf_eval2(y_test, pred=None, pred_proba=None):\n",
    "    confusion = confusion_matrix(y_test, pred)\n",
    "    accuracy = accuracy_score(y_test, pred)\n",
    "    precision = precision_score(y_test, pred, average ='macro')\n",
    "    recall = recall_score(y_test, pred, average ='macro')\n",
    "    f1 = f1_score(y_test, pred, average ='macro')\n",
    "    \n",
    "    print(\"오차행렬\\n\", confusion)\n",
    "    print(\"정확도: {0:.4f}, 정밀도: {1:.4f}, 재현율: {2:.4f}, F1:{3:.4f}\\n\".format(accuracy, precision, recall, f1))\n",
    "    \n",
    "# 모델 학습 함수\n",
    "def get_model_train_eval2(model, ftr_train = None, ftr_test = None, tgt_train = None, tgt_test = None):\n",
    "    model.fit(ftr_train, tgt_train)\n",
    "    pred = model.predict(ftr_test)\n",
    "    pred_proba = model.predict_proba(ftr_test)[:, 1]\n",
    "    get_clf_eval2(tgt_test, pred, pred_proba)"
   ]
  },
  {
   "cell_type": "code",
   "execution_count": 14,
   "metadata": {},
   "outputs": [],
   "source": [
    "# 모델 불러오기\n",
    "\n",
    "file_name = \"./model_syn/xgb_reg.pkl\"\n",
    "\n",
    "# load\n",
    "w_xgb_model = pickle.load(open(file_name, \"rb\"))"
   ]
  },
  {
   "cell_type": "code",
   "execution_count": 15,
   "metadata": {},
   "outputs": [],
   "source": [
    "# predict, predict_proba 추출\n",
    "\n",
    "w_preds = w_xgb_model.predict(X_test_over)\n",
    "w_pred_proba = w_xgb_model.predict_proba(X_test_over)[:,1]"
   ]
  },
  {
   "cell_type": "code",
   "execution_count": 16,
   "metadata": {},
   "outputs": [
    {
     "name": "stdout",
     "output_type": "stream",
     "text": [
      "오차행렬\n",
      " [[5778 1190]\n",
      " [3631 3337]]\n",
      "정확도: 0.6541, 정밀도: 0.6756, 재현율: 0.6541, F1:0.6431\n",
      "\n"
     ]
    }
   ],
   "source": [
    "# get_clf_eval()를 이용해 사키릿런 래퍼 XGBoost로 만들어진 모델 예측 성능 평가\n",
    "\n",
    "get_clf_eval2(y_test_over, w_preds, w_pred_proba)"
   ]
  },
  {
   "cell_type": "code",
   "execution_count": 23,
   "metadata": {},
   "outputs": [
    {
     "name": "stdout",
     "output_type": "stream",
     "text": [
      "precision for 5% suspicious group : 0.9124\n",
      "precision for 10% suspicious group : 0.8859\n"
     ]
    }
   ],
   "source": [
    "# calculate precision of top n% suspicious items\n",
    "def precision_top_n(y_test, pred_proba, percentage):\n",
    "    top_n = int(percentage * len(y_test))\n",
    "    y_test_top_n = y_test[np.argpartition(pred_proba, -(top_n))[-top_n:]]\n",
    "    precision_top_n = round(np.sum(y_test_top_n) / len(y_test_top_n), 4)\n",
    "    print(\"precision for {}% suspicious group : {}\".format(int(percentage*100), precision_top_n))\n",
    "    \n",
    "precision_top_n(np.array(y_test_over[\"우범여부\"]), w_pred_proba, 0.05)\n",
    "precision_top_n(np.array(y_test_over[\"우범여부\"]), w_pred_proba, 0.1)"
   ]
  },
  {
   "cell_type": "markdown",
   "metadata": {},
   "source": [
    "## 6. 실제 /예측값 비교"
   ]
  },
  {
   "cell_type": "code",
   "execution_count": 18,
   "metadata": {},
   "outputs": [],
   "source": [
    "X_org = pd.read_csv('./label_syn/df_enc_test.csv', encoding='utf-8-sig')"
   ]
  },
  {
   "cell_type": "code",
   "execution_count": 19,
   "metadata": {},
   "outputs": [],
   "source": [
    "pred_critical = w_xgb_model.predict(X_test)"
   ]
  },
  {
   "cell_type": "code",
   "execution_count": 20,
   "metadata": {},
   "outputs": [
    {
     "data": {
      "text/html": [
       "<div>\n",
       "<style scoped>\n",
       "    .dataframe tbody tr th:only-of-type {\n",
       "        vertical-align: middle;\n",
       "    }\n",
       "\n",
       "    .dataframe tbody tr th {\n",
       "        vertical-align: top;\n",
       "    }\n",
       "\n",
       "    .dataframe thead th {\n",
       "        text-align: right;\n",
       "    }\n",
       "</style>\n",
       "<table border=\"1\" class=\"dataframe\">\n",
       "  <thead>\n",
       "    <tr style=\"text-align: right;\">\n",
       "      <th></th>\n",
       "      <th>우범여부_예측</th>\n",
       "    </tr>\n",
       "  </thead>\n",
       "  <tbody>\n",
       "    <tr>\n",
       "      <th>0</th>\n",
       "      <td>1</td>\n",
       "    </tr>\n",
       "    <tr>\n",
       "      <th>1</th>\n",
       "      <td>0</td>\n",
       "    </tr>\n",
       "    <tr>\n",
       "      <th>2</th>\n",
       "      <td>0</td>\n",
       "    </tr>\n",
       "    <tr>\n",
       "      <th>3</th>\n",
       "      <td>0</td>\n",
       "    </tr>\n",
       "    <tr>\n",
       "      <th>4</th>\n",
       "      <td>0</td>\n",
       "    </tr>\n",
       "    <tr>\n",
       "      <th>...</th>\n",
       "      <td>...</td>\n",
       "    </tr>\n",
       "    <tr>\n",
       "      <th>8921</th>\n",
       "      <td>1</td>\n",
       "    </tr>\n",
       "    <tr>\n",
       "      <th>8922</th>\n",
       "      <td>1</td>\n",
       "    </tr>\n",
       "    <tr>\n",
       "      <th>8923</th>\n",
       "      <td>0</td>\n",
       "    </tr>\n",
       "    <tr>\n",
       "      <th>8924</th>\n",
       "      <td>0</td>\n",
       "    </tr>\n",
       "    <tr>\n",
       "      <th>8925</th>\n",
       "      <td>0</td>\n",
       "    </tr>\n",
       "  </tbody>\n",
       "</table>\n",
       "<p>8926 rows × 1 columns</p>\n",
       "</div>"
      ],
      "text/plain": [
       "      우범여부_예측\n",
       "0           1\n",
       "1           0\n",
       "2           0\n",
       "3           0\n",
       "4           0\n",
       "...       ...\n",
       "8921        1\n",
       "8922        1\n",
       "8923        0\n",
       "8924        0\n",
       "8925        0\n",
       "\n",
       "[8926 rows x 1 columns]"
      ]
     },
     "execution_count": 20,
     "metadata": {},
     "output_type": "execute_result"
    }
   ],
   "source": [
    "a = np.array([pred_critical])\n",
    "pred_df = pd.DataFrame({'우범여부_예측':a[0]})\n",
    "pred_df"
   ]
  },
  {
   "cell_type": "code",
   "execution_count": 21,
   "metadata": {},
   "outputs": [],
   "source": [
    "sample=X_org[['신고세관부호','신고인부호','수입자','HS10단위부호','우범여부']]"
   ]
  },
  {
   "cell_type": "code",
   "execution_count": 24,
   "metadata": {},
   "outputs": [
    {
     "data": {
      "text/html": [
       "<div>\n",
       "<style scoped>\n",
       "    .dataframe tbody tr th:only-of-type {\n",
       "        vertical-align: middle;\n",
       "    }\n",
       "\n",
       "    .dataframe tbody tr th {\n",
       "        vertical-align: top;\n",
       "    }\n",
       "\n",
       "    .dataframe thead th {\n",
       "        text-align: right;\n",
       "    }\n",
       "</style>\n",
       "<table border=\"1\" class=\"dataframe\">\n",
       "  <thead>\n",
       "    <tr style=\"text-align: right;\">\n",
       "      <th></th>\n",
       "      <th>신고세관부호</th>\n",
       "      <th>신고인부호</th>\n",
       "      <th>수입자</th>\n",
       "      <th>HS10단위부호</th>\n",
       "      <th>우범여부</th>\n",
       "      <th>우범여부_예측</th>\n",
       "    </tr>\n",
       "  </thead>\n",
       "  <tbody>\n",
       "    <tr>\n",
       "      <th>0</th>\n",
       "      <td>29</td>\n",
       "      <td>575N8BW</td>\n",
       "      <td>PEJWA0Y</td>\n",
       "      <td>8481201000</td>\n",
       "      <td>1</td>\n",
       "      <td>1</td>\n",
       "    </tr>\n",
       "    <tr>\n",
       "      <th>1</th>\n",
       "      <td>21</td>\n",
       "      <td>8ZM6GUW</td>\n",
       "      <td>9DIRDSY</td>\n",
       "      <td>4407299000</td>\n",
       "      <td>0</td>\n",
       "      <td>0</td>\n",
       "    </tr>\n",
       "    <tr>\n",
       "      <th>2</th>\n",
       "      <td>39</td>\n",
       "      <td>1XCM1XF</td>\n",
       "      <td>SRCDUMH</td>\n",
       "      <td>710807000</td>\n",
       "      <td>0</td>\n",
       "      <td>0</td>\n",
       "    </tr>\n",
       "    <tr>\n",
       "      <th>3</th>\n",
       "      <td>15</td>\n",
       "      <td>KEGR4JZ</td>\n",
       "      <td>XSK62NY</td>\n",
       "      <td>4202999000</td>\n",
       "      <td>1</td>\n",
       "      <td>0</td>\n",
       "    </tr>\n",
       "    <tr>\n",
       "      <th>4</th>\n",
       "      <td>30</td>\n",
       "      <td>607KRHF</td>\n",
       "      <td>DRMMKS4</td>\n",
       "      <td>8711301000</td>\n",
       "      <td>0</td>\n",
       "      <td>0</td>\n",
       "    </tr>\n",
       "    <tr>\n",
       "      <th>...</th>\n",
       "      <td>...</td>\n",
       "      <td>...</td>\n",
       "      <td>...</td>\n",
       "      <td>...</td>\n",
       "      <td>...</td>\n",
       "      <td>...</td>\n",
       "    </tr>\n",
       "    <tr>\n",
       "      <th>8921</th>\n",
       "      <td>30</td>\n",
       "      <td>QM7LO7M</td>\n",
       "      <td>LKVEEMK</td>\n",
       "      <td>8518109090</td>\n",
       "      <td>1</td>\n",
       "      <td>1</td>\n",
       "    </tr>\n",
       "    <tr>\n",
       "      <th>8922</th>\n",
       "      <td>12</td>\n",
       "      <td>DO8IOFX</td>\n",
       "      <td>RALHUGK</td>\n",
       "      <td>7326909000</td>\n",
       "      <td>0</td>\n",
       "      <td>1</td>\n",
       "    </tr>\n",
       "    <tr>\n",
       "      <th>8923</th>\n",
       "      <td>39</td>\n",
       "      <td>9O034UC</td>\n",
       "      <td>ML9KFEZ</td>\n",
       "      <td>8517629000</td>\n",
       "      <td>0</td>\n",
       "      <td>0</td>\n",
       "    </tr>\n",
       "    <tr>\n",
       "      <th>8924</th>\n",
       "      <td>40</td>\n",
       "      <td>FXK30O6</td>\n",
       "      <td>YIIADKE</td>\n",
       "      <td>9503003919</td>\n",
       "      <td>0</td>\n",
       "      <td>0</td>\n",
       "    </tr>\n",
       "    <tr>\n",
       "      <th>8925</th>\n",
       "      <td>20</td>\n",
       "      <td>Z9575WL</td>\n",
       "      <td>P6BBMVY</td>\n",
       "      <td>106203000</td>\n",
       "      <td>0</td>\n",
       "      <td>0</td>\n",
       "    </tr>\n",
       "  </tbody>\n",
       "</table>\n",
       "<p>8926 rows × 6 columns</p>\n",
       "</div>"
      ],
      "text/plain": [
       "      신고세관부호    신고인부호      수입자    HS10단위부호  우범여부  우범여부_예측\n",
       "0         29  575N8BW  PEJWA0Y  8481201000     1        1\n",
       "1         21  8ZM6GUW  9DIRDSY  4407299000     0        0\n",
       "2         39  1XCM1XF  SRCDUMH   710807000     0        0\n",
       "3         15  KEGR4JZ  XSK62NY  4202999000     1        0\n",
       "4         30  607KRHF  DRMMKS4  8711301000     0        0\n",
       "...      ...      ...      ...         ...   ...      ...\n",
       "8921      30  QM7LO7M  LKVEEMK  8518109090     1        1\n",
       "8922      12  DO8IOFX  RALHUGK  7326909000     0        1\n",
       "8923      39  9O034UC  ML9KFEZ  8517629000     0        0\n",
       "8924      40  FXK30O6  YIIADKE  9503003919     0        0\n",
       "8925      20  Z9575WL  P6BBMVY   106203000     0        0\n",
       "\n",
       "[8926 rows x 6 columns]"
      ]
     },
     "execution_count": 24,
     "metadata": {},
     "output_type": "execute_result"
    }
   ],
   "source": [
    "dfa = pd.DataFrame(sample)\n",
    "final_df = dfa.join(pred_df)\n",
    "final_df"
   ]
  },
  {
   "cell_type": "code",
   "execution_count": 25,
   "metadata": {},
   "outputs": [],
   "source": [
    "# 파일 저장 #\n",
    "final_df.to_csv('./label_syn/predict_evaluation_test.csv', index=None, encoding='949')"
   ]
  },
  {
   "cell_type": "code",
   "execution_count": null,
   "metadata": {},
   "outputs": [],
   "source": []
  }
 ],
 "metadata": {
  "kernelspec": {
   "display_name": "wco",
   "language": "python",
   "name": "wco"
  },
  "language_info": {
   "codemirror_mode": {
    "name": "ipython",
    "version": 3
   },
   "file_extension": ".py",
   "mimetype": "text/x-python",
   "name": "python",
   "nbconvert_exporter": "python",
   "pygments_lexer": "ipython3",
   "version": "3.7.10"
  }
 },
 "nbformat": 4,
 "nbformat_minor": 2
}
